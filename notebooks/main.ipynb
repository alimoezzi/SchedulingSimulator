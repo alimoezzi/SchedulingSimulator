{
 "cells": [
  {
   "cell_type": "markdown",
   "source": [
    "# Scheduling Simulator\n"
   ],
   "metadata": {
    "collapsed": false
   }
  },
  {
   "cell_type": "code",
   "execution_count": 1,
   "outputs": [],
   "source": [
    "# get timeline filename\n",
    "tl = input(\"Please enter the timeline filename\")\n"
   ],
   "metadata": {
    "collapsed": false,
    "pycharm": {
     "name": "#%%\n",
     "is_executing": false
    }
   }
  },
  {
   "cell_type": "code",
   "execution_count": 4,
   "outputs": [],
   "source": [
    "import numpy as np\n",
    "import pandas as pd\n",
    "from pandas import Series, DataFrame\n",
    "\n",
    "import matplotlib.pyplot as plt\n",
    "from pylab import rcParams\n",
    "import seaborn as sb"
   ],
   "metadata": {
    "collapsed": false,
    "pycharm": {
     "name": "#%%\n",
     "is_executing": false
    }
   }
  },
  {
   "cell_type": "code",
   "execution_count": 5,
   "outputs": [],
   "source": [
    "%matplotlib inline\n",
    "rcParams['figure.figsize'] = 15,15\n",
    "sb.set_style('whitegrid')"
   ],
   "metadata": {
    "collapsed": false,
    "pycharm": {
     "name": "#%%\n",
     "is_executing": false
    }
   }
  },
  {
   "cell_type": "code",
   "execution_count": 6,
   "outputs": [],
   "source": [
    "\n",
    "from algorithms import FCFS, RR, SRT"
   ],
   "metadata": {
    "collapsed": false,
    "pycharm": {
     "name": "#%%\n",
     "is_executing": false
    }
   }
  },
  {
   "cell_type": "code",
   "execution_count": 23,
   "outputs": [],
   "source": [
    "def draw(raw):\n",
    "    fig = plt.figure()\n",
    "    ax = fig.add_subplot(111)\n",
    "    data = np.array(raw)\n",
    "    x, y = np.argwhere(data == 1).T\n",
    "    \n",
    "    \n",
    "    cax = ax.matshow(data)\n",
    "    \n",
    "    ax.set_yticklabels(['']+['P%d'% i for i in range(len(raw))])\n",
    "    plt.show()"
   ],
   "metadata": {
    "collapsed": false,
    "pycharm": {
     "name": "#%%\n",
     "is_executing": false
    }
   }
  },
  {
   "cell_type": "code",
   "execution_count": 24,
   "outputs": [
    {
     "name": "stdout",
     "text": [
      "run\n\nthread03\n\n\nthread02\n\n\nthread01\n\nstopping thread 0 remaining 17\n\nthread16\n\n\nthread15\n\n\nthread14\n\n\nthread13\n\n\nthread12\n\n\nthread11\n\nstopping thread 1 remaining 11\n\nthread24\n\n\nthread23\n\n\nthread22\n\n\nthread21\n\nstopping thread 2 remaining 7\n\nthread35\n\n\nthread34\n\n\nthread33\n\n",
      "\nthread32\n\n\nthread31\n\nstopping thread 3 remaining 2\n\nthread42\n\n\nthread41\n\nstopping thread 4 remaining 0\n"
     ],
     "output_type": "stream"
    },
    {
     "data": {
      "text/plain": "<Figure size 1080x1080 with 1 Axes>",
      "image/png": "[encoded data removed]"
     },
     "metadata": {},
     "output_type": "display_data"
    }
   ],
   "source": [
    "f = FCFS([0, 2, 4, 6, 8], [3, 6, 4, 5, 2])\n",
    "f.run()\n",
    "draw(f.raw)"
   ],
   "metadata": {
    "collapsed": false,
    "pycharm": {
     "name": "#%%\n",
     "is_executing": false
    }
   }
  },
  {
   "cell_type": "code",
   "execution_count": 25,
   "outputs": [
    {
     "name": "stdout",
     "text": [
      "run\n\nthread08\n\n\nthread11\n\nstopping thread 1 remaining 19\n\nthread24\n\n\nthread36\n\n\nthread42\n\n\nthread07\n\nstopping thread 1 remaining 15\n\nthread23\n\n\nthread35\n\n\nthread41\n\n\nthread06\n\n\nthread22\n\n",
      "\nthread34\n\nstopping thread 4 remaining 9\n\nthread05\n\n\nthread21\n\n\nthread33\n\n\nthread04\n\nstopping thread 2 remaining 5",
      "\n\nthread32\n\n\nthread03\n\n\nthread31\n\n\nthread02\n\nstopping thread 3 remaining 1\n\nthread01\n\nstopping thread 0 remaining 0\n"
     ],
     "output_type": "stream"
    },
    {
     "data": {
      "text/plain": "<Figure size 1080x1080 with 1 Axes>",
      "image/png": "[encoded data removed]"
     },
     "metadata": {},
     "output_type": "display_data"
    }
   ],
   "source": [
    "r = RR([0, 1, 2, 3, 3], [8, 1, 4, 6, 2])\n",
    "r.run()\n",
    "draw(r.raw)"
   ],
   "metadata": {
    "collapsed": false,
    "pycharm": {
     "name": "#%%\n",
     "is_executing": false
    }
   }
  },
  {
   "cell_type": "code",
   "execution_count": 35,
   "outputs": [
    {
     "name": "stdout",
     "text": [
      "run\n\nthread03\n\n\nthread02\n\n\nthread01\n\nstopping thread 0 remaining 17\n\nthread24\n\n\nthread23\n\n\nthread22\n\n\nthread21\n\nstopping thread 2 remaining 13\n\nthread42\n\n\nthread41\n\nstopping thread 4 remaining 11\n\nthread35\n\n\nthread34\n\n\nthread33\n\n\nthread32\n\n\nthread31\n\nstopping thread 3 remaining 6\n\nthread16\n\n\nthread15\n\n\nthread14\n\n\nthread13\n\n\nthread12\n\n\nthread11\n\nstopping thread 1 remaining 0\n"
     ],
     "output_type": "stream"
    },
    {
     "data": {
      "text/plain": "<Figure size 1152x144 with 1 Axes>",
      "image/png": "[encoded data removed]"
     },
     "metadata": {},
     "output_type": "display_data"
    }
   ],
   "source": [
    "s = SRT([0, 0, 4, 6, 8], [3, 6, 4, 5, 2])\n",
    "s.run()\n",
    "draw(s.raw)\n",
    "\n",
    "\n"
   ],
   "metadata": {
    "collapsed": false,
    "pycharm": {
     "name": "#%%\n",
     "is_executing": false
    }
   }
  }
 ],
 "metadata": {
  "language_info": {
   "codemirror_mode": {
    "name": "ipython",
    "version": 2
   },
   "file_extension": ".py",
   "mimetype": "text/x-python",
   "name": "python",
   "nbconvert_exporter": "python",
   "pygments_lexer": "ipython2",
   "version": "2.7.6"
  },
  "kernelspec": {
   "name": "python3",
   "language": "python",
   "display_name": "Python 3"
  },
  "pycharm": {
   "stem_cell": {
    "cell_type": "raw",
    "source": [],
    "metadata": {
     "collapsed": false
    }
   }
  }
 },
 "nbformat": 4,
 "nbformat_minor": 0
}